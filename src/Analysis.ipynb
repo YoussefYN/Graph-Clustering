{
 "cells": [
  {
   "cell_type": "code",
   "execution_count": 126,
   "metadata": {},
   "outputs": [],
   "source": [
    "import pandas as pd\n",
    "import numpy as np\n",
    "import matplotlib.pyplot as plt\n",
    "%matplotlib inline"
   ]
  },
  {
   "cell_type": "code",
   "execution_count": null,
   "metadata": {},
   "outputs": [],
   "source": [
    "clusters_init = open('wiki-topcats-categories.txt','rt')\n",
    "filtered = pd.read_csv('filtered-wiki-topcats.txt', sep=\" \", header=None) "
   ]
  },
  {
   "cell_type": "code",
   "execution_count": 14,
   "metadata": {},
   "outputs": [],
   "source": [
    "unique_nodes = set(filtered.values.reshape(-1))"
   ]
  },
  {
   "cell_type": "code",
   "execution_count": 127,
   "metadata": {},
   "outputs": [],
   "source": [
    "number_clusters = []\n",
    "cluster_category = []\n",
    "nodes_indexes = []\n",
    "with open('wiki-topcats-categories.txt','rt') as f: \n",
    "    for line in f:\n",
    "        name, lines = line.split(';')\n",
    "        nodes = list(map(int,(lines.split())))\n",
    "        nodes = list(filter(lambda x: int(x) in unique_nodes, nodes))\n",
    "        if len(nodes) != 0:\n",
    "            cluster_category.append(name.split(':')[1])\n",
    "            number_clusters.append(len(nodes))\n",
    "            nodes_indexes.append(nodes)"
   ]
  },
  {
   "cell_type": "code",
   "execution_count": 136,
   "metadata": {},
   "outputs": [
    {
     "data": {
      "text/html": [
       "<div>\n",
       "<style scoped>\n",
       "    .dataframe tbody tr th:only-of-type {\n",
       "        vertical-align: middle;\n",
       "    }\n",
       "\n",
       "    .dataframe tbody tr th {\n",
       "        vertical-align: top;\n",
       "    }\n",
       "\n",
       "    .dataframe thead th {\n",
       "        text-align: right;\n",
       "    }\n",
       "</style>\n",
       "<table border=\"1\" class=\"dataframe\">\n",
       "  <thead>\n",
       "    <tr style=\"text-align: right;\">\n",
       "      <th></th>\n",
       "      <th>number of nodes per cluster</th>\n",
       "    </tr>\n",
       "  </thead>\n",
       "  <tbody>\n",
       "    <tr>\n",
       "      <th>count</th>\n",
       "      <td>16999.000000</td>\n",
       "    </tr>\n",
       "    <tr>\n",
       "      <th>mean</th>\n",
       "      <td>82.342373</td>\n",
       "    </tr>\n",
       "    <tr>\n",
       "      <th>std</th>\n",
       "      <td>875.139882</td>\n",
       "    </tr>\n",
       "    <tr>\n",
       "      <th>min</th>\n",
       "      <td>1.000000</td>\n",
       "    </tr>\n",
       "    <tr>\n",
       "      <th>25%</th>\n",
       "      <td>19.000000</td>\n",
       "    </tr>\n",
       "    <tr>\n",
       "      <th>50%</th>\n",
       "      <td>40.000000</td>\n",
       "    </tr>\n",
       "    <tr>\n",
       "      <th>75%</th>\n",
       "      <td>78.000000</td>\n",
       "    </tr>\n",
       "    <tr>\n",
       "      <th>max</th>\n",
       "      <td>111754.000000</td>\n",
       "    </tr>\n",
       "  </tbody>\n",
       "</table>\n",
       "</div>"
      ],
      "text/plain": [
       "       number of nodes per cluster\n",
       "count                 16999.000000\n",
       "mean                     82.342373\n",
       "std                     875.139882\n",
       "min                       1.000000\n",
       "25%                      19.000000\n",
       "50%                      40.000000\n",
       "75%                      78.000000\n",
       "max                  111754.000000"
      ]
     },
     "execution_count": 136,
     "metadata": {},
     "output_type": "execute_result"
    }
   ],
   "source": [
    "#original dataset statistics\n",
    "df_init = pd.DataFrame(list(zip(cluster_category, clusters_original, nodes_indexes)), columns = ['topic', 'number of nodes per cluster','nodes_idx'])\n",
    "df_init.describe()"
   ]
  },
  {
   "cell_type": "code",
   "execution_count": 135,
   "metadata": {},
   "outputs": [
    {
     "data": {
      "text/html": [
       "<div>\n",
       "<style scoped>\n",
       "    .dataframe tbody tr th:only-of-type {\n",
       "        vertical-align: middle;\n",
       "    }\n",
       "\n",
       "    .dataframe tbody tr th {\n",
       "        vertical-align: top;\n",
       "    }\n",
       "\n",
       "    .dataframe thead th {\n",
       "        text-align: right;\n",
       "    }\n",
       "</style>\n",
       "<table border=\"1\" class=\"dataframe\">\n",
       "  <thead>\n",
       "    <tr style=\"text-align: right;\">\n",
       "      <th></th>\n",
       "      <th>topic</th>\n",
       "      <th>number of nodes per cluster</th>\n",
       "      <th>nodes_idx</th>\n",
       "    </tr>\n",
       "  </thead>\n",
       "  <tbody>\n",
       "    <tr>\n",
       "      <th>1030</th>\n",
       "      <td>Living_people</td>\n",
       "      <td>111754</td>\n",
       "      <td>[52, 74, 155, 159, 167, 195, 212, 228, 235, 98...</td>\n",
       "    </tr>\n",
       "    <tr>\n",
       "      <th>11426</th>\n",
       "      <td>American_film_actors</td>\n",
       "      <td>7644</td>\n",
       "      <td>[980, 1088, 1109, 1121, 1123, 1124, 1125, 1134...</td>\n",
       "    </tr>\n",
       "    <tr>\n",
       "      <th>10338</th>\n",
       "      <td>English-language_films</td>\n",
       "      <td>7312</td>\n",
       "      <td>[16405, 18792, 23850, 23865, 25493, 26846, 326...</td>\n",
       "    </tr>\n",
       "    <tr>\n",
       "      <th>7487</th>\n",
       "      <td>Year_of_birth_missing_(living_people)</td>\n",
       "      <td>7140</td>\n",
       "      <td>[195, 1100, 1104, 1118, 1121, 1139, 1148, 1474...</td>\n",
       "    </tr>\n",
       "    <tr>\n",
       "      <th>8531</th>\n",
       "      <td>Main_Belt_asteroids</td>\n",
       "      <td>6930</td>\n",
       "      <td>[13184, 33254, 33791, 33990, 33991, 37540, 390...</td>\n",
       "    </tr>\n",
       "  </tbody>\n",
       "</table>\n",
       "</div>"
      ],
      "text/plain": [
       "                                       topic  number of nodes per cluster  \\\n",
       "1030                           Living_people                       111754   \n",
       "11426                   American_film_actors                         7644   \n",
       "10338                 English-language_films                         7312   \n",
       "7487   Year_of_birth_missing_(living_people)                         7140   \n",
       "8531                     Main_Belt_asteroids                         6930   \n",
       "\n",
       "                                               nodes_idx  \n",
       "1030   [52, 74, 155, 159, 167, 195, 212, 228, 235, 98...  \n",
       "11426  [980, 1088, 1109, 1121, 1123, 1124, 1125, 1134...  \n",
       "10338  [16405, 18792, 23850, 23865, 25493, 26846, 326...  \n",
       "7487   [195, 1100, 1104, 1118, 1121, 1139, 1148, 1474...  \n",
       "8531   [13184, 33254, 33791, 33990, 33991, 37540, 390...  "
      ]
     },
     "execution_count": 135,
     "metadata": {},
     "output_type": "execute_result"
    }
   ],
   "source": [
    "sort_by_number_of_nodes = df_init.sort_values('number of nodes per cluster', ascending=False)\n",
    "sort_by_number_of_nodes.head()"
   ]
  }
 ],
 "metadata": {
  "kernelspec": {
   "display_name": "Python 3",
   "language": "python",
   "name": "python3"
  },
  "language_info": {
   "codemirror_mode": {
    "name": "ipython",
    "version": 3
   },
   "file_extension": ".py",
   "mimetype": "text/x-python",
   "name": "python",
   "nbconvert_exporter": "python",
   "pygments_lexer": "ipython3",
   "version": "3.6.5"
  }
 },
 "nbformat": 4,
 "nbformat_minor": 2
}
