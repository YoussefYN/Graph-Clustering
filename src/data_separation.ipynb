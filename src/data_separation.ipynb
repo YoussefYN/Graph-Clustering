{
 "cells": [
  {
   "cell_type": "code",
   "execution_count": 2,
   "metadata": {},
   "outputs": [],
   "source": [
    "import random\n",
    "from collections import deque\n",
    "from tqdm import tqdm_notebook as tqdm"
   ]
  },
  {
   "cell_type": "code",
   "execution_count": 3,
   "metadata": {},
   "outputs": [],
   "source": [
    "edges = {}\n",
    "# edges_inverse = {}\n",
    "with open(\"../data/wiki-topcats.txt\") as f:\n",
    "    for line in f:\n",
    "        src, dst = list(map(int, line.split()))\n",
    "        if src in edges:\n",
    "            edges[src].append(dst)\n",
    "        else:\n",
    "            edges[src] = [dst]\n",
    "#         if dst in edges_inverse:\n",
    "#             edges[dst].append(src)\n",
    "#         else:\n",
    "#             edges[dst] = [src]"
   ]
  },
  {
   "cell_type": "code",
   "execution_count": 4,
   "metadata": {},
   "outputs": [],
   "source": [
    "MIN_NODES = 150000\n",
    "MIN_EDGES = 15000000"
   ]
  },
  {
   "cell_type": "code",
   "execution_count": 5,
   "metadata": {},
   "outputs": [],
   "source": [
    "# MIN_NODES = 150\n",
    "# MIN_EDGES = 15000"
   ]
  },
  {
   "cell_type": "code",
   "execution_count": 20,
   "metadata": {},
   "outputs": [],
   "source": [
    "nodes_amount = 1\n",
    "edges_amount = 0\n",
    "edges_keys = list(edges.keys())\n",
    "init_node = edges_keys[random.randint(0, len(edges_keys))]\n",
    "filtered_edges = {}"
   ]
  },
  {
   "cell_type": "code",
   "execution_count": 21,
   "metadata": {},
   "outputs": [],
   "source": [
    "queue = deque([init_node])\n",
    "visited_nodes = set()"
   ]
  },
  {
   "cell_type": "code",
   "execution_count": 22,
   "metadata": {},
   "outputs": [
    {
     "data": {
      "application/vnd.jupyter.widget-view+json": {
       "model_id": "6d7feab475234d9db8a1f07345af3fb7",
       "version_major": 2,
       "version_minor": 0
      },
      "text/plain": [
       "HBox(children=(IntProgress(value=0, description='nodes count', max=15000000, style=ProgressStyle(description_w…"
      ]
     },
     "metadata": {},
     "output_type": "display_data"
    },
    {
     "name": "stdout",
     "output_type": "stream",
     "text": [
      "\n"
     ]
    }
   ],
   "source": [
    "with tqdm(total=MIN_EDGES, desc='nodes count') as pbar:\n",
    "    while ((len(visited_nodes) < MIN_NODES or edges_amount < MIN_EDGES)):\n",
    "        current_node = queue.popleft()\n",
    "        visited_nodes.add(current_node)\n",
    "        for dst_node in edges[current_node]:\n",
    "            if dst_node not in visited_nodes:\n",
    "                queue.append(dst_node)\n",
    "\n",
    "                if current_node in filtered_edges:\n",
    "                    filtered_edges[current_node].add(dst_node)\n",
    "                else:\n",
    "                    filtered_edges[current_node] = set([dst_node])\n",
    "                edges_amount += 1\n",
    "                pbar.update(1)\n",
    "                if edges_amount> MIN_EDGES:\n",
    "                    break\n",
    "                \n",
    "        while len(queue) == 0:\n",
    "            edges_keys = list(edges.keys())\n",
    "            \n",
    "            init_node = edges_keys[random.randint(0, len(edges_keys))]\n",
    "            if init_node not in visited_nodes:\n",
    "                queue.append(init_node)"
   ]
  },
  {
   "cell_type": "code",
   "execution_count": 23,
   "metadata": {},
   "outputs": [],
   "source": [
    "def get_nodes_count(filtered_edges):\n",
    "    nodes = set()\n",
    "    for src in filtered_edges.keys():\n",
    "        nodes.add(src)\n",
    "        for dst in filtered_edges[src]:\n",
    "            nodes.add(dst)\n",
    "    return (len(nodes))"
   ]
  },
  {
   "cell_type": "code",
   "execution_count": 24,
   "metadata": {},
   "outputs": [
    {
     "data": {
      "text/plain": [
       "(860601, 15000001)"
      ]
     },
     "execution_count": 24,
     "metadata": {},
     "output_type": "execute_result"
    }
   ],
   "source": [
    "get_nodes_count(filtered_edges), edges_amount"
   ]
  },
  {
   "cell_type": "code",
   "execution_count": 25,
   "metadata": {},
   "outputs": [],
   "source": [
    "with open('filtered-wiki-topcats3.txt', 'w') as f:\n",
    "    for src in sorted(filtered_edges.keys()):\n",
    "        for dst in sorted(filtered_edges[src]):\n",
    "            print(src, dst, file = f)"
   ]
  },
  {
   "cell_type": "code",
   "execution_count": null,
   "metadata": {
    "scrolled": true
   },
   "outputs": [],
   "source": []
  }
 ],
 "metadata": {
  "kernelspec": {
   "display_name": "Python 3",
   "language": "python",
   "name": "python3"
  },
  "language_info": {
   "codemirror_mode": {
    "name": "ipython",
    "version": 3
   },
   "file_extension": ".py",
   "mimetype": "text/x-python",
   "name": "python",
   "nbconvert_exporter": "python",
   "pygments_lexer": "ipython3",
   "version": "3.7.1"
  }
 },
 "nbformat": 4,
 "nbformat_minor": 2
}
